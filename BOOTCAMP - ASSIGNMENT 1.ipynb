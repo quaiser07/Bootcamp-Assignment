{
 "cells": [
  {
   "cell_type": "markdown",
   "id": "3f927cc1-e40f-4b12-b0d1-b6e4a3916b02",
   "metadata": {},
   "source": [
    "# BOOTCAMP - ASSIGNMENT 1\n",
    "## Md Quaiser Ali\n",
    "## SID:103334"
   ]
  },
  {
   "cell_type": "markdown",
   "id": "99ab66a1-1027-4d13-aec1-08b737afc89d",
   "metadata": {},
   "source": [
    "### Q1 - Convert a string to a zigzag pattern on a given number of rows and then read it row by row.\n",
    "\n",
    "### Input: s = \"PAYPALISHIRING\", numRows = 3\n",
    "\n"
   ]
  },
  {
   "cell_type": "code",
   "execution_count": 7,
   "id": "f499f0ec-dfb6-40e5-918f-0e998ac7e97d",
   "metadata": {},
   "outputs": [],
   "source": [
    "def zigzag(s, numRows):\n",
    "\n",
    "    if numRows == 1:\n",
    "        return s\n",
    "\n",
    "    rows = [[] for _ in range(numRows)]\n",
    "    row, step = 0, 1\n",
    "\n",
    "    for char in s:\n",
    "        rows[row].append(char)\n",
    "        row += step\n",
    "        if row == numRows - 1 or row == 0:\n",
    "            step *= -1\n",
    "\n",
    "    return ''.join(''.join(row) for row in rows)"
   ]
  },
  {
   "cell_type": "code",
   "execution_count": 8,
   "id": "8f3e2ab1-5950-4b6c-b601-1693c9345a9f",
   "metadata": {},
   "outputs": [
    {
     "name": "stdout",
     "output_type": "stream",
     "text": [
      "PAHNAPLSIIGYIR\n"
     ]
    }
   ],
   "source": [
    "s = \"PAYPALISHIRING\"\n",
    "numRows = 3\n",
    "result = zigzag(s, numRows)\n",
    "print(result) "
   ]
  },
  {
   "cell_type": "markdown",
   "id": "9e41a0f9-b888-449e-aa61-f107ea3617b3",
   "metadata": {},
   "source": [
    "### Q2 - Implement a method to perform basic string compression using the counts of repeated characters.\n",
    "\n",
    "### Input: \"aabcccccaaa\"\n",
    "\n"
   ]
  },
  {
   "cell_type": "code",
   "execution_count": 9,
   "id": "aa8685a0-3527-4c26-91c0-36350b12dfcd",
   "metadata": {},
   "outputs": [
    {
     "name": "stdout",
     "output_type": "stream",
     "text": [
      "a2b1c5a3\n"
     ]
    }
   ],
   "source": [
    "def compress_string(s):\n",
    "    compressed = []\n",
    "    count = 1\n",
    "\n",
    "    for i in range(1, len(s)):\n",
    "        if s[i] == s[i - 1]:\n",
    "            count += 1\n",
    "        else:\n",
    "            compressed.append(s[i - 1] + str(count))\n",
    "            count = 1\n",
    "\n",
    "    # Append the last character and its count\n",
    "    compressed.append(s[-1] + str(count))\n",
    "\n",
    "    compressed_str = ''.join(compressed)\n",
    "\n",
    "    # Return the compressed string only if it's shorter than the original\n",
    "    return compressed_str if len(compressed_str) < len(s) else s\n",
    "\n",
    "\n",
    "s = \"aabcccccaaa\"\n",
    "result = compress_string(s)\n",
    "print(result)  "
   ]
  },
  {
   "cell_type": "markdown",
   "id": "ec24c967-56a1-4d81-b58d-b61ee5e1b046",
   "metadata": {},
   "source": [
    "### Q3 - Write a function that generates all possible permutations of a given string.\n",
    "\n",
    "### Input: \"ABC\"\n",
    "\n"
   ]
  },
  {
   "cell_type": "code",
   "execution_count": 10,
   "id": "ca0a2bc1-1e0d-4e87-a82d-4b3f3148603c",
   "metadata": {},
   "outputs": [
    {
     "name": "stdout",
     "output_type": "stream",
     "text": [
      "['ABC', 'ACB', 'BAC', 'BCA', 'CAB', 'CBA']\n"
     ]
    }
   ],
   "source": [
    "def permutations(s):\n",
    " \n",
    "    if len(s) == 0:\n",
    "        return [\"\"]\n",
    "\n",
    "    result = []\n",
    "    for i in range(len(s)):\n",
    "        char = s[i]\n",
    "        remaining = s[:i] + s[i + 1:]\n",
    "        perms = permutations(remaining)\n",
    "        for perm in perms:\n",
    "            result.append(char + perm)\n",
    "\n",
    "    return result\n",
    "\n",
    "\n",
    "s = \"ABC\"\n",
    "perms = permutations(s)\n",
    "print(perms)  "
   ]
  },
  {
   "cell_type": "markdown",
   "id": "b3804945-a9d0-4541-bcdf-cc42e54e307c",
   "metadata": {},
   "source": [
    "### Q4- Given an array of strings, group anagrams together.\n",
    "\n",
    "### Input: [\"eat\", \"tea\", \"tan\", \"ate\", \"nat\", \"bat\"]"
   ]
  },
  {
   "cell_type": "code",
   "execution_count": 11,
   "id": "57117c8e-542b-454b-86d6-c85e73d785d7",
   "metadata": {},
   "outputs": [
    {
     "name": "stdout",
     "output_type": "stream",
     "text": [
      "[['eat', 'tea', 'ate'], ['tan', 'nat'], ['bat']]\n"
     ]
    }
   ],
   "source": [
    "def group_anagrams(strs):\n",
    "\n",
    "    anagrams = {}\n",
    "    for s in strs:\n",
    "        # Create a sorted key for each string to represent its anagram\n",
    "        key = ''.join(sorted(s))\n",
    "\n",
    "        if key not in anagrams:\n",
    "            anagrams[key] = []\n",
    "        anagrams[key].append(s)\n",
    "\n",
    "    return list(anagrams.values())\n",
    "\n",
    "\n",
    "strs = [\"eat\", \"tea\", \"tan\", \"ate\", \"nat\", \"bat\"]\n",
    "grouped_anagrams = group_anagrams(strs)\n",
    "print(grouped_anagrams)  "
   ]
  },
  {
   "cell_type": "markdown",
   "id": "b16dddb1-645a-4c61-a0bb-a92e332322fc",
   "metadata": {},
   "source": [
    "### Q5 - Write a function to multiply two large numbers represented as strings.\n",
    "\n",
    "### Input: num1 = \"123\", num2 = \"456\""
   ]
  },
  {
   "cell_type": "code",
   "execution_count": 13,
   "id": "ee41393d-b114-4ec6-8c15-031649e21c04",
   "metadata": {},
   "outputs": [
    {
     "name": "stdout",
     "output_type": "stream",
     "text": [
      "56088\n"
     ]
    }
   ],
   "source": [
    "def multiply_strings(num1, num2):\n",
    "    return str(int(num1) * int(num2))\n",
    "\n",
    "\n",
    "num1 = \"123\"\n",
    "num2 = \"456\"\n",
    "result = multiply_strings(num1, num2)\n",
    "print(result) "
   ]
  },
  {
   "cell_type": "markdown",
   "id": "5330e1af-3d77-444a-9f01-0eeda53ba659",
   "metadata": {},
   "source": [
    "### Q6- Given two strings, check if one is a rotation of the other using only one call to a string method.\n",
    "\n",
    "### Input: str1 = \"ABCD\", str2 = \"DABC\""
   ]
  },
  {
   "cell_type": "code",
   "execution_count": 14,
   "id": "78a0677e-965e-4f0f-97dd-1ffbe5d8c4e7",
   "metadata": {},
   "outputs": [
    {
     "name": "stdout",
     "output_type": "stream",
     "text": [
      "True\n"
     ]
    }
   ],
   "source": [
    "def is_rotation(str1, str2):\n",
    "    if len(str1) != len(str2):\n",
    "        return False\n",
    "    return str2 in (str1 + str1)\n",
    "\n",
    "str1 = \"ABCD\"\n",
    "str2 = \"DABC\"\n",
    "result = is_rotation(str1, str2)\n",
    "print(result)  "
   ]
  },
  {
   "cell_type": "markdown",
   "id": "59cf6d35-5ff6-4df4-9137-d4a15aa0e1fb",
   "metadata": {},
   "source": [
    "### Q7- Given a string containing just the characters (, ), {, }, [, and ], determine if the input string is valid.\n",
    "\n",
    "### Input: \"()[]{}\""
   ]
  },
  {
   "cell_type": "code",
   "execution_count": 15,
   "id": "17eb0c3c-b4c5-46e0-98b9-01cd8a19281f",
   "metadata": {},
   "outputs": [
    {
     "name": "stdout",
     "output_type": "stream",
     "text": [
      "True\n"
     ]
    }
   ],
   "source": [
    "def is_valid_parentheses(s):\n",
    "\n",
    "    stack = []\n",
    "    mapping = {')': '(', '}': '{', ']': '['}\n",
    "\n",
    "    for char in s:\n",
    "        if char in mapping:\n",
    "            # Check if the closing parenthesis matches the top of the stack\n",
    "            if not stack or stack.pop() != mapping[char]:\n",
    "                return False\n",
    "        else:\n",
    "            # Push the opening parenthesis onto the stack\n",
    "            stack.append(char)\n",
    "\n",
    "    # The stack should be empty if the string is valid\n",
    "    return not stack\n",
    "\n",
    "\n",
    "s = \"()[]{}\"\n",
    "is_valid = is_valid_parentheses(s)\n",
    "print(is_valid)  "
   ]
  },
  {
   "cell_type": "markdown",
   "id": "41983dca-1dfb-4fb6-a414-9179725b830d",
   "metadata": {},
   "source": [
    "### Q8- Implement the function atoi which converts a string to an integer.\n",
    "\n",
    "### Input: \"4193 with words\""
   ]
  },
  {
   "cell_type": "code",
   "execution_count": 18,
   "id": "a1f304a4-1b72-4963-bdc0-f87e6ce7a0ad",
   "metadata": {},
   "outputs": [
    {
     "name": "stdout",
     "output_type": "stream",
     "text": [
      "4193\n"
     ]
    }
   ],
   "source": [
    "def my_atoi(s):\n",
    "    s = s.lstrip()  # Remove leading whitespace\n",
    "    if not s:\n",
    "        return 0\n",
    "\n",
    "    sign = -1 if s[0] == '-' else 1\n",
    "    if s[0] in ('-', '+'):\n",
    "        s = s[1:]\n",
    "\n",
    "    result = 0\n",
    "    for char in s:\n",
    "        if char.isdigit():\n",
    "            result = result * 10 + int(char)\n",
    "        else:\n",
    "            break\n",
    "\n",
    "    result *= sign\n",
    "    return max(min(result, 2**31 - 1), -2**31)\n",
    "\n",
    "\n",
    "s = \"4193 with words\"\n",
    "result = my_atoi(s)\n",
    "print(result)  "
   ]
  },
  {
   "cell_type": "markdown",
   "id": "37dbb3ff-80b9-4813-b229-bec8620ae0c8",
   "metadata": {},
   "source": [
    "### Q9- Write a function that generates the nth term of the \"count and say\" sequence.\n",
    "\n",
    "### Input: n = 4"
   ]
  },
  {
   "cell_type": "code",
   "execution_count": 19,
   "id": "73af50d1-4955-4db9-a6bc-d33be54a20d7",
   "metadata": {},
   "outputs": [
    {
     "name": "stdout",
     "output_type": "stream",
     "text": [
      "1211\n"
     ]
    }
   ],
   "source": [
    "def count_and_say(n):\n",
    "    result = \"1\"\n",
    "    for _ in range(1, n):\n",
    "        temp = \"\"\n",
    "        count = 1\n",
    "        for i in range(1, len(result) + 1):\n",
    "            if i < len(result) and result[i] == result[i - 1]:\n",
    "                count += 1\n",
    "            else:\n",
    "                temp += str(count) + result[i - 1]\n",
    "                count = 1\n",
    "        result = temp\n",
    "    return result\n",
    "\n",
    "\n",
    "n = 4\n",
    "result = count_and_say(n)\n",
    "print(result) "
   ]
  },
  {
   "cell_type": "markdown",
   "id": "a9659de3-aa3f-42e1-8c95-7fd299e0e05d",
   "metadata": {},
   "source": [
    "### Q10- Given two strings s and t, return the minimum window in s which will contain all the characters in t.\n",
    "\n",
    "### Input: s = \"ADOBECODEBANC\", t = \"ABC\""
   ]
  },
  {
   "cell_type": "code",
   "execution_count": 24,
   "id": "7d014fca-3878-4914-982a-da7efe6e8f37",
   "metadata": {},
   "outputs": [
    {
     "name": "stdout",
     "output_type": "stream",
     "text": [
      "BANC\n"
     ]
    }
   ],
   "source": [
    "from collections import Counter, defaultdict\n",
    "\n",
    "def min_window(s, t):\n",
    "    if not s or not t:\n",
    "        return \"\"\n",
    "\n",
    "    char_count = Counter(t)\n",
    "    required = len(char_count)\n",
    "    left, right = 0, 0\n",
    "    formed = 0\n",
    "    window_counts = defaultdict(int)\n",
    "    min_length = float('inf')\n",
    "    min_window = \"\"\n",
    "\n",
    "    while right < len(s):\n",
    "        char = s[right]\n",
    "        window_counts[char] += 1\n",
    "\n",
    "        if char in char_count and window_counts[char] == char_count[char]:\n",
    "            formed += 1\n",
    "\n",
    "        while left <= right and formed == required:\n",
    "            char = s[left]\n",
    "\n",
    "            if right - left + 1 < min_length:\n",
    "                min_length = right - left + 1\n",
    "                min_window = s[left:right + 1]\n",
    "\n",
    "            window_counts[char] -= 1\n",
    "            if char in char_count and window_counts[char] < char_count[char]:\n",
    "                formed -= 1\n",
    "\n",
    "            left += 1\n",
    "\n",
    "        right += 1\n",
    "\n",
    "    return min_window\n",
    "\n",
    "\n",
    "s = \"ADOBECODEBANC\"\n",
    "t = \"ABC\"\n",
    "result = min_window(s, t)\n",
    "print(result)  "
   ]
  },
  {
   "cell_type": "markdown",
   "id": "0c93e1a9-9162-4ea8-8996-45083d2a321c",
   "metadata": {},
   "source": [
    "### Q11- Given a string, find the length of the longest substring without repeating characters.\n",
    "\n",
    "### Input: \"abcabcbb\""
   ]
  },
  {
   "cell_type": "code",
   "execution_count": 25,
   "id": "0315ddb0-5536-41e8-a8be-00c416b1481c",
   "metadata": {},
   "outputs": [
    {
     "name": "stdout",
     "output_type": "stream",
     "text": [
      "3\n"
     ]
    }
   ],
   "source": [
    "def length_of_longest_substring(s):\n",
    "    char_set = set()\n",
    "    left = 0\n",
    "    max_length = 0\n",
    "\n",
    "    for right in range(len(s)):\n",
    "        while s[right] in char_set:\n",
    "            char_set.remove(s[left])\n",
    "            left += 1\n",
    "        char_set.add(s[right])\n",
    "        max_length = max(max_length, right - left + 1)\n",
    "\n",
    "    return max_length\n",
    "\n",
    "\n",
    "s = \"abcabcbb\"\n",
    "result = length_of_longest_substring(s)\n",
    "print(result)  "
   ]
  },
  {
   "cell_type": "markdown",
   "id": "2170bf8e-e072-480d-9674-4e52b28bbd19",
   "metadata": {},
   "source": [
    "### Q12- Given three strings s1, s2, and s3, determine if s3 is formed by the interleaving of s1 and s2.\n",
    "\n",
    "### Input: s1 = \"aabcc\", s2 = \"dbbca\", s3 = \"aadbbcbcac\""
   ]
  },
  {
   "cell_type": "code",
   "execution_count": 26,
   "id": "34adc7fb-595c-4af4-bcc8-a21a24d96ac3",
   "metadata": {},
   "outputs": [
    {
     "name": "stdout",
     "output_type": "stream",
     "text": [
      "True\n"
     ]
    }
   ],
   "source": [
    "def is_interleave(s1, s2, s3):\n",
    "    if len(s1) + len(s2) != len(s3):\n",
    "        return False\n",
    "\n",
    "    dp = [[False] * (len(s2) + 1) for _ in range(len(s1) + 1)]\n",
    "    dp[0][0] = True\n",
    "\n",
    "    for i in range(len(s1) + 1):\n",
    "        for j in range(len(s2) + 1):\n",
    "            if i > 0:\n",
    "                dp[i][j] |= dp[i - 1][j] and s1[i - 1] == s3[i + j - 1]\n",
    "            if j > 0:\n",
    "                dp[i][j] |= dp[i][j - 1] and s2[j - 1] == s3[i + j - 1]\n",
    "\n",
    "    return dp[len(s1)][len(s2)]\n",
    "\n",
    "\n",
    "s1 = \"aabcc\"\n",
    "s2 = \"dbbca\"\n",
    "s3 = \"aadbbcbcac\"\n",
    "result = is_interleave(s1, s2, s3)\n",
    "print(result)  "
   ]
  },
  {
   "cell_type": "markdown",
   "id": "5882d064-2728-4af3-9b4b-ee1eb4352419",
   "metadata": {},
   "source": [
    "### Q13- Write a function to convert a Roman numeral to an integer.\n",
    "\n",
    "### Input: \"MCMXCIV\""
   ]
  },
  {
   "cell_type": "code",
   "execution_count": 27,
   "id": "2a26e899-032f-4065-b13e-3b3cb79e1ec6",
   "metadata": {},
   "outputs": [
    {
     "name": "stdout",
     "output_type": "stream",
     "text": [
      "1994\n"
     ]
    }
   ],
   "source": [
    "def roman_to_int(s):\n",
    "    roman_map = {\n",
    "        'I': 1,\n",
    "        'V': 5,\n",
    "        'X': 10,\n",
    "        'L': 50,\n",
    "        'C': 100,\n",
    "        'D': 500,\n",
    "        'M': 1000\n",
    "    }\n",
    "\n",
    "    total = 0\n",
    "    prev_value = 0\n",
    "\n",
    "    for char in reversed(s):\n",
    "        value = roman_map[char]\n",
    "        if value < prev_value:\n",
    "            total -= value\n",
    "        else:\n",
    "            total += value\n",
    "        prev_value = value\n",
    "\n",
    "    return total\n",
    "\n",
    "\n",
    "s = \"MCMXCIV\"\n",
    "result = roman_to_int(s)\n",
    "print(result)  "
   ]
  },
  {
   "cell_type": "markdown",
   "id": "10b1e3cd-72cf-4315-b3e7-a5e3b9eca5b7",
   "metadata": {},
   "source": [
    "### Q14- Find the longest common substring between two strings.\n",
    "\n",
    "### Input: str1 = \"ABABC\", str2 = \"BABCA\""
   ]
  },
  {
   "cell_type": "code",
   "execution_count": 30,
   "id": "2a4d7efb-9df0-489a-bdb0-78e269625423",
   "metadata": {},
   "outputs": [
    {
     "name": "stdout",
     "output_type": "stream",
     "text": [
      "BABC\n"
     ]
    }
   ],
   "source": [
    "def longest_common_substring(str1, str2):\n",
    "    m, n = len(str1), len(str2)\n",
    "    max_length = 0\n",
    "    end_index = 0\n",
    "\n",
    "    dp = [[0] * (n + 1) for _ in range(m + 1)]\n",
    "\n",
    "    for i in range(1, m + 1):\n",
    "        for j in range(1, n + 1):\n",
    "            if str1[i - 1] == str2[j - 1]:\n",
    "                dp[i][j] = dp[i - 1][j - 1] + 1\n",
    "                if dp[i][j] > max_length:\n",
    "                    max_length = dp[i][j]\n",
    "                    end_index = i\n",
    "\n",
    "    return str1[end_index - max_length:end_index]\n",
    "\n",
    "\n",
    "str1 = \"ABABC\"\n",
    "str2 = \"BABCA\"\n",
    "result = longest_common_substring(str1,str2)\n",
    "print(result) "
   ]
  },
  {
   "cell_type": "markdown",
   "id": "002d9011-9afc-4a48-98a3-2b25f0da5a4a",
   "metadata": {},
   "source": [
    "### Q15- Given a string s and a dictionary of words, check if s can be segmented into a space-separated sequence of one or more dictionary words."
   ]
  },
  {
   "cell_type": "code",
   "execution_count": 31,
   "id": "d99b1d8c-3ac0-4168-8a23-7f413b15e8cb",
   "metadata": {},
   "outputs": [
    {
     "name": "stdout",
     "output_type": "stream",
     "text": [
      "True\n"
     ]
    }
   ],
   "source": [
    "def word_break(s, word_dict):\n",
    "    # Create a set for quick lookup\n",
    "    word_set = set(word_dict)\n",
    "    # Initialize a list to track possible segmentations\n",
    "    dp = [False] * (len(s) + 1)\n",
    "    dp[0] = True  # Base case: empty string\n",
    "\n",
    "    # Iterate through the string\n",
    "    for i in range(1, len(s) + 1):\n",
    "        for j in range(i):\n",
    "            # Check if the substring s[j:i] is in the dictionary\n",
    "            if dp[j] and s[j:i] in word_set:\n",
    "                dp[i] = True\n",
    "                break  # No need to check further\n",
    "\n",
    "    return dp[len(s)]\n",
    "\n",
    "\n",
    "s = \"leetcode\"\n",
    "word_dict = [\"leet\", \"code\"]\n",
    "result = word_break(s, word_dict)\n",
    "print(result) "
   ]
  },
  {
   "cell_type": "markdown",
   "id": "4cbb09b9-601d-468b-90fe-cf5a231f353d",
   "metadata": {},
   "source": [
    "### Q16- Remove the minimum number of invalid parentheses to make the input string valid. Return all possible results.\n",
    "\n",
    "### Input: \"()())()\""
   ]
  },
  {
   "cell_type": "code",
   "execution_count": 34,
   "id": "2f510bbc-c20c-405c-8a00-c43321697bc7",
   "metadata": {},
   "outputs": [
    {
     "name": "stdout",
     "output_type": "stream",
     "text": [
      "['(())()', '()()()']\n"
     ]
    }
   ],
   "source": [
    "from collections import deque\n",
    "\n",
    "def remove_invalid_parentheses(s):\n",
    "    def is_valid(st):\n",
    "        count = 0\n",
    "        for char in st:\n",
    "            if char == '(': count += 1\n",
    "            if char == ')': count -= 1\n",
    "            if count < 0: return False\n",
    "        return count == 0\n",
    "\n",
    "    queue, visited, results = deque([s]), set([s]), []\n",
    "    found = False\n",
    "\n",
    "    while queue:\n",
    "        current = queue.popleft()\n",
    "        if is_valid(current):\n",
    "            results.append(current)\n",
    "            found = True\n",
    "        if found: continue\n",
    "        for i in range(len(current)):\n",
    "            if current[i] in '()':\n",
    "                next_state = current[:i] + current[i+1:]\n",
    "                if next_state not in visited:\n",
    "                    visited.add(next_state)\n",
    "                    queue.append(next_state)\n",
    "\n",
    "    return results\n",
    "\n",
    "\n",
    "s = \"()())()\"\n",
    "print(remove_invalid_parentheses(s))  \n"
   ]
  },
  {
   "cell_type": "code",
   "execution_count": null,
   "id": "98981db6-9c4a-46f3-b3a4-e0c9085ff39a",
   "metadata": {},
   "outputs": [],
   "source": []
  }
 ],
 "metadata": {
  "kernelspec": {
   "display_name": "Python 3 (ipykernel)",
   "language": "python",
   "name": "python3"
  },
  "language_info": {
   "codemirror_mode": {
    "name": "ipython",
    "version": 3
   },
   "file_extension": ".py",
   "mimetype": "text/x-python",
   "name": "python",
   "nbconvert_exporter": "python",
   "pygments_lexer": "ipython3",
   "version": "3.13.0"
  }
 },
 "nbformat": 4,
 "nbformat_minor": 5
}
